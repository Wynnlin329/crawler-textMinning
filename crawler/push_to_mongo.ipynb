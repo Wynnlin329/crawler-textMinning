{
 "cells": [
  {
   "cell_type": "code",
   "execution_count": 1,
   "metadata": {},
   "outputs": [],
   "source": [
    "import json\n",
    "import pandas as pd\n",
    "import os\n",
    "import numpy as np\n",
    "import csv\n",
    "import re\n",
    "from pymongo import MongoClient\n",
    "import pymongo"
   ]
  },
  {
   "cell_type": "code",
   "execution_count": 8,
   "metadata": {
    "scrolled": true
   },
   "outputs": [
    {
     "data": {
      "text/plain": [
       "<_io.TextIOWrapper name='E:/tensorflow/textMinning/elle_teach/elle_lips_teach.csv' mode='r' encoding='utf-8'>"
      ]
     },
     "execution_count": 8,
     "metadata": {},
     "output_type": "execute_result"
    }
   ],
   "source": [
    "#csv to json Conversion\n",
    "csvfile = open('E:/tensorflow/textMinning/elle_teach/elle_lips_teach.csv','r',encoding='utf-8')\n",
    "csvfile"
   ]
  },
  {
   "cell_type": "code",
   "execution_count": 9,
   "metadata": {},
   "outputs": [],
   "source": [
    "reader = csv.DictReader(csvfile)\n",
    "mongo_client = MongoClient('mongodb://192.168.248.129:27017/')\n",
    "db = mongo_client.teach_data\n",
    "db.test.drop()\n"
   ]
  },
  {
   "cell_type": "code",
   "execution_count": 10,
   "metadata": {},
   "outputs": [],
   "source": [
    "header=['標題','網址']\n",
    "big_row = {}\n",
    "for g,each in enumerate(reader):\n",
    "    row = {\"_id\":g,\"index\":\"嘴唇\",}\n",
    "#     row={}\n",
    "    for field in header:\n",
    "        \n",
    "        row[field]=each[field]\n",
    "        \n",
    "#     big_row[\"_id\"]=row\n",
    "        \n",
    "#     db.test.insert_one(big_row)\n",
    "    db.lips.insert_one(row)\n",
    "    "
   ]
  },
  {
   "cell_type": "code",
   "execution_count": 45,
   "metadata": {},
   "outputs": [
    {
     "name": "stdout",
     "output_type": "stream",
     "text": [
      "Requirement already satisfied: pymongo in e:\\anaconda3\\lib\\site-packages (3.9.0)\n"
     ]
    }
   ],
   "source": []
  },
  {
   "cell_type": "code",
   "execution_count": 42,
   "metadata": {},
   "outputs": [
    {
     "name": "stdout",
     "output_type": "stream",
     "text": [
      "5\n",
      "3\n"
     ]
    }
   ],
   "source": [
    "x ={\"a\":\"3\",\"b\":\"5\"}\n",
    "aa = x['b']\n",
    "bb = x['a']\n"
   ]
  },
  {
   "cell_type": "code",
   "execution_count": 159,
   "metadata": {},
   "outputs": [
    {
     "data": {
      "text/plain": [
       "279"
      ]
     },
     "execution_count": 159,
     "metadata": {},
     "output_type": "execute_result"
    }
   ],
   "source": [
    "row[\"_id\"]"
   ]
  },
  {
   "cell_type": "code",
   "execution_count": null,
   "metadata": {},
   "outputs": [],
   "source": []
  }
 ],
 "metadata": {
  "kernelspec": {
   "display_name": "Python 3",
   "language": "python",
   "name": "python3"
  },
  "language_info": {
   "codemirror_mode": {
    "name": "ipython",
    "version": 3
   },
   "file_extension": ".py",
   "mimetype": "text/x-python",
   "name": "python",
   "nbconvert_exporter": "python",
   "pygments_lexer": "ipython3",
   "version": "3.7.3"
  }
 },
 "nbformat": 4,
 "nbformat_minor": 2
}
