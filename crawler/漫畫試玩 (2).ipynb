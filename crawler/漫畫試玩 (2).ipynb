{
 "cells": [
  {
   "cell_type": "code",
   "execution_count": 1,
   "metadata": {},
   "outputs": [],
   "source": [
    "import requests\n",
    "res = requests.get('https://comicbus.com/html/14475.html')\n",
    "# 出來會是亂碼所以加入下面這一行\n",
    "res.encoding = 'cp950'\n",
    "# res.text"
   ]
  },
  {
   "cell_type": "code",
   "execution_count": 2,
   "metadata": {},
   "outputs": [],
   "source": [
    "from bs4 import BeautifulSoup\n",
    "soup = BeautifulSoup(res.text, 'lxml')\n",
    "comics = []\n",
    "# 讓所有資料放入comics空的字串中\n",
    "for rec in soup.select('table[id=\"rp_ctl05_0_dl_0\"] td a'):#因為是取id所以加入#字號\n",
    "    comics.append(int(rec.get('id').strip('c')))\n",
    "    # strip拿掉數字前面的C,用int變成一個整數\n",
    "    # print(int(rec.get('id'.strip('c'))) id是個字串先用int變成整數並切掉C"
   ]
  },
  {
   "cell_type": "code",
   "execution_count": 3,
   "metadata": {},
   "outputs": [
    {
     "data": {
      "text/plain": [
       "159"
      ]
     },
     "execution_count": 3,
     "metadata": {},
     "output_type": "execute_result"
    }
   ],
   "source": [
    "max(comics)\n",
    "#最大集數"
   ]
  },
  {
   "cell_type": "code",
   "execution_count": 4,
   "metadata": {},
   "outputs": [],
   "source": [
    "import pandas\n",
    "comic_df = pandas.DataFrame(comics)\n",
    "comic_df.columns = ['series']#集數"
   ]
  },
  {
   "cell_type": "code",
   "execution_count": 5,
   "metadata": {},
   "outputs": [],
   "source": [
    "import sqlite3 as lite#建立一個SQLite數據庫"
   ]
  },
  {
   "cell_type": "code",
   "execution_count": 6,
   "metadata": {},
   "outputs": [],
   "source": [
    "with lite.connect('comics.sqlite') as db:#資料庫名為 comics.sqlits 把連線設為db\n",
    "    comic_df.to_sql('comics' ,con = db ,if_exists='replace')#把資料放入comics，連線設為db，表格如果存在的話做replace的動作"
   ]
  },
  {
   "cell_type": "code",
   "execution_count": 7,
   "metadata": {},
   "outputs": [
    {
     "data": {
      "text/html": [
       "<div>\n",
       "<style scoped>\n",
       "    .dataframe tbody tr th:only-of-type {\n",
       "        vertical-align: middle;\n",
       "    }\n",
       "\n",
       "    .dataframe tbody tr th {\n",
       "        vertical-align: top;\n",
       "    }\n",
       "\n",
       "    .dataframe thead th {\n",
       "        text-align: right;\n",
       "    }\n",
       "</style>\n",
       "<table border=\"1\" class=\"dataframe\">\n",
       "  <thead>\n",
       "    <tr style=\"text-align: right;\">\n",
       "      <th></th>\n",
       "      <th>max_series</th>\n",
       "    </tr>\n",
       "  </thead>\n",
       "  <tbody>\n",
       "    <tr>\n",
       "      <th>0</th>\n",
       "      <td>159</td>\n",
       "    </tr>\n",
       "  </tbody>\n",
       "</table>\n",
       "</div>"
      ],
      "text/plain": [
       "   max_series\n",
       "0         159"
      ]
     },
     "execution_count": 7,
     "metadata": {},
     "output_type": "execute_result"
    }
   ],
   "source": [
    "#目前在資料庫最新的集數為何\n",
    "with lite.connect('comics.sqlite') as db:\n",
    "    df2 = pandas.read_sql_query('select max(series) as max_series from comics', con = db)\n",
    "df2"
   ]
  },
  {
   "cell_type": "code",
   "execution_count": 8,
   "metadata": {},
   "outputs": [
    {
     "data": {
      "text/plain": [
       "[]"
      ]
     },
     "execution_count": 8,
     "metadata": {},
     "output_type": "execute_result"
    }
   ],
   "source": [
    "# 使用def定義check_comics()\n",
    "def check_comics():\n",
    "# 檢查資料庫最新的漫畫集數\n",
    "    with lite.connect('comics.sqlite') as db:\n",
    "        df2 = pandas.read_sql_query('select max(series) as max_series from comics', con = db)\n",
    "    max_series = df2['max_series'][0]# 拿出第一筆數據\n",
    "\n",
    "# 利用網路爬蟲檢查最新的集數\n",
    "    res = requests.get('https://comicbus.com/html/14475.html')# 出來會是亂碼所以加入下面這一行\n",
    "    res.encoding = 'cp950'\n",
    "    soup = BeautifulSoup(res.text, 'lxml')\n",
    "    comics = []# 讓所有資料放入comics空的字串中\n",
    "# 讓所有資料放入comics空的字串中\n",
    "    for rec in soup.select('table[id=\"rp_ctl05_0_dl_0\"] td a'):#因為是取id所以加入#字號\n",
    "        comics.append(int(rec.get('id').strip('c')))\n",
    "    # strip拿掉數字前面的C,用int變成一個整數\n",
    "    # print(int(rec.get('id'.strip('c')))檢查是否資料有出來\n",
    "# 將還未抓取的集數放到left_comics\n",
    "    left_comics = []    \n",
    "    for i in range(max_series, max(comics)):\n",
    "        left_comice.append(i)\n",
    "# 將抓取到的集數寫到資料庫中\n",
    "    with lite.connect('comics.sqlite') as db:#資料庫名為 comics.sqlits 把連線設為db\n",
    "        comic_df.to_sql('comics', con = db, if_exists='replace')#把資料放入comics，連線設為db，表格如果存在的話做replace的動作\n",
    "    return left_comics\n",
    "\n",
    "check_comics()"
   ]
  },
  {
   "cell_type": "markdown",
   "metadata": {},
   "source": [
    "# 漫畫抓取函示"
   ]
  },
  {
   "cell_type": "code",
   "execution_count": 9,
   "metadata": {},
   "outputs": [],
   "source": [
    "import time, os\n",
    "from selenium import webdriver\n",
    "from bs4 import BeautifulSoup\n",
    "import requests\n",
    "\n",
    "def getComic(s):\n",
    "    s_path = \"./catoon/%s\" %(s)\n",
    "    driver = webdriver.Chrome('./chromedriver')\n",
    "    if not os.path.exists(str(s_path)):\n",
    "        os.mkdir(str(s_path))\n",
    "        pageurl = 'https://comicbus.live/online/manga_14475.html?ch={}-{}'\n",
    "        driver.get(pageurl.format(s,1))\n",
    "        time.sleep(1)\n",
    "        soup = BeautifulSoup(driver.page_source, 'lxml')\n",
    "        pagenum = int(soup.select_one('#pagenum').text.split('/')[1].strip('頁')) \n",
    "        for i in range(pagenum):\n",
    "            driver.get(pageurl.format(s, i+1))\n",
    "            soup = BeautifulSoup(driver.page_source, 'lxml')\n",
    "            imgurl = 'https:' + soup.select_one('#TheImg').get('src')\n",
    "            res = requests.get(imgurl)\n",
    "            with open('{}/{}.jpg'.format(s, i+ 1), 'wb') as f:\n",
    "                f.write(res.content)\n",
    "        time.sleep(1)\n",
    "    driver.close()"
   ]
  },
  {
   "cell_type": "code",
   "execution_count": 10,
   "metadata": {},
   "outputs": [],
   "source": [
    "left_comics = check_comics()\n",
    "left_comics = [130]\n",
    "for i in left_comics:\n",
    "    getComic(i)"
   ]
  },
  {
   "cell_type": "markdown",
   "metadata": {},
   "source": [
    "## 發送漫畫"
   ]
  },
  {
   "cell_type": "code",
   "execution_count": 11,
   "metadata": {},
   "outputs": [],
   "source": [
    "token = 'MRkcmm4iUThiMgRtuXPdBzgTcjDepkzQNqjb1LMPdXx'\n",
    "headers = {\n",
    "    'Authorization': f'Bearer {token}'\n",
    "}\n",
    "\n",
    "payload = {\n",
    " 'message':'最新的漫畫', \n",
    "}\n",
    "\n",
    "files = {\n",
    "    'imageFile': open('./catoon/159/1.jpg', 'rb')\n",
    "}\n",
    "\n",
    "res = requests.post('https://notify-api.line.me/api/notify', data = payload, files=files, headers = headers)"
   ]
  },
  {
   "cell_type": "code",
   "execution_count": 12,
   "metadata": {},
   "outputs": [
    {
     "data": {
      "text/plain": [
       "'{\"status\":200,\"message\":\"ok\"}'"
      ]
     },
     "execution_count": 12,
     "metadata": {},
     "output_type": "execute_result"
    }
   ],
   "source": [
    "res.text"
   ]
  },
  {
   "cell_type": "code",
   "execution_count": 13,
   "metadata": {},
   "outputs": [],
   "source": [
    "def send_comics(f):\n",
    "    token = 'MRkcmm4iUThiMgRtuXPdBzgTcjDepkzQNqjb1LMPdXx'\n",
    "    headers = {\n",
    "        'Authorization': f'Bearer {token}'\n",
    "    }\n",
    "\n",
    "    payload = {\n",
    "     'message':'最新的漫畫', \n",
    "    }\n",
    "\n",
    "    files = {\n",
    "        'imageFile': open(f, 'rb')\n",
    "    }\n",
    "\n",
    "    res = requests.post('https://notify-api.line.me/api/notify', data = payload, files=files, headers = headers)\n",
    "    return res.json()"
   ]
  },
  {
   "cell_type": "code",
   "execution_count": null,
   "metadata": {},
   "outputs": [
    {
     "name": "stdout",
     "output_type": "stream",
     "text": [
      "120/1.jpg\n",
      "120/2.jpg\n",
      "120/3.jpg\n",
      "120/4.jpg\n",
      "120/5.jpg\n",
      "120/6.jpg\n",
      "120/7.jpg\n",
      "120/8.jpg\n",
      "120/9.jpg\n",
      "120/10.jpg\n",
      "120/11.jpg\n",
      "120/12.jpg\n",
      "120/13.jpg\n",
      "120/14.jpg\n",
      "120/15.jpg\n",
      "120/16.jpg\n",
      "120/17.jpg\n",
      "120/18.jpg\n",
      "120/19.jpg\n",
      "121/1.jpg\n",
      "121/2.jpg\n",
      "121/3.jpg\n",
      "121/4.jpg\n",
      "121/5.jpg\n",
      "121/6.jpg\n",
      "121/7.jpg\n",
      "121/8.jpg\n",
      "121/9.jpg\n",
      "121/10.jpg\n",
      "121/11.jpg\n",
      "121/12.jpg\n"
     ]
    }
   ],
   "source": [
    "import os\n",
    "left_comics = check_comics()\n",
    "left_comics = [120]\n",
    "for i in range(120,122):\n",
    "    getComic(i)\n",
    "    \n",
    "    ary = []\n",
    "    for f in os.listdir('./catoon/{}'.format(i)):\n",
    "        ary.append(int(f.replace('.jpg', '')))\n",
    "    ary.sort()\n",
    "    \n",
    "    for c in ary:\n",
    "        print('{}/{}.jpg'.format(i,c))\n",
    "        send_comics('./catoon/{}/{}.jpg'.format(i,c))"
   ]
  },
  {
   "cell_type": "code",
   "execution_count": null,
   "metadata": {},
   "outputs": [],
   "source": []
  },
  {
   "cell_type": "code",
   "execution_count": null,
   "metadata": {},
   "outputs": [],
   "source": []
  },
  {
   "cell_type": "code",
   "execution_count": null,
   "metadata": {},
   "outputs": [],
   "source": []
  }
 ],
 "metadata": {
  "kernelspec": {
   "display_name": "Python 3",
   "language": "python",
   "name": "python3"
  },
  "language_info": {
   "codemirror_mode": {
    "name": "ipython",
    "version": 3
   },
   "file_extension": ".py",
   "mimetype": "text/x-python",
   "name": "python",
   "nbconvert_exporter": "python",
   "pygments_lexer": "ipython3",
   "version": "3.7.3"
  }
 },
 "nbformat": 4,
 "nbformat_minor": 2
}
